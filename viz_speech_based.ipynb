{
 "cells": [
  {
   "cell_type": "code",
   "execution_count": 150,
   "metadata": {},
   "outputs": [],
   "source": [
    "import pandas as pd"
   ]
  },
  {
   "cell_type": "markdown",
   "metadata": {},
   "source": [
    "## Reading Data"
   ]
  },
  {
   "cell_type": "code",
   "execution_count": 42,
   "metadata": {},
   "outputs": [
    {
     "data": {
      "text/html": [
       "<div>\n",
       "<style scoped>\n",
       "    .dataframe tbody tr th:only-of-type {\n",
       "        vertical-align: middle;\n",
       "    }\n",
       "\n",
       "    .dataframe tbody tr th {\n",
       "        vertical-align: top;\n",
       "    }\n",
       "\n",
       "    .dataframe thead th {\n",
       "        text-align: right;\n",
       "    }\n",
       "</style>\n",
       "<table border=\"1\" class=\"dataframe\">\n",
       "  <thead>\n",
       "    <tr style=\"text-align: right;\">\n",
       "      <th></th>\n",
       "      <th>mean_pitch</th>\n",
       "      <th>mean_intensity</th>\n",
       "      <th>sd_pitch</th>\n",
       "      <th>sd_intensity</th>\n",
       "      <th>duration</th>\n",
       "      <th>speaking_rate</th>\n",
       "      <th>jitter</th>\n",
       "      <th>shimmer</th>\n",
       "      <th>tag</th>\n",
       "    </tr>\n",
       "  </thead>\n",
       "  <tbody>\n",
       "    <tr>\n",
       "      <th>0</th>\n",
       "      <td>0.439332</td>\n",
       "      <td>-0.233840</td>\n",
       "      <td>23.434147</td>\n",
       "      <td>12.741367</td>\n",
       "      <td>3.92</td>\n",
       "      <td>2.806122</td>\n",
       "      <td>0.016667</td>\n",
       "      <td>0.073849</td>\n",
       "      <td>qy</td>\n",
       "    </tr>\n",
       "    <tr>\n",
       "      <th>1</th>\n",
       "      <td>-0.333770</td>\n",
       "      <td>-0.065550</td>\n",
       "      <td>15.809203</td>\n",
       "      <td>13.735634</td>\n",
       "      <td>9.64</td>\n",
       "      <td>3.215768</td>\n",
       "      <td>0.017093</td>\n",
       "      <td>0.081315</td>\n",
       "      <td>sd</td>\n",
       "    </tr>\n",
       "    <tr>\n",
       "      <th>2</th>\n",
       "      <td>-0.195737</td>\n",
       "      <td>0.023572</td>\n",
       "      <td>3.449232</td>\n",
       "      <td>11.928231</td>\n",
       "      <td>2.20</td>\n",
       "      <td>0.454545</td>\n",
       "      <td>0.009435</td>\n",
       "      <td>0.081687</td>\n",
       "      <td>%</td>\n",
       "    </tr>\n",
       "    <tr>\n",
       "      <th>3</th>\n",
       "      <td>-0.238647</td>\n",
       "      <td>-0.056787</td>\n",
       "      <td>18.148676</td>\n",
       "      <td>12.747733</td>\n",
       "      <td>5.92</td>\n",
       "      <td>3.378378</td>\n",
       "      <td>0.007669</td>\n",
       "      <td>0.071836</td>\n",
       "      <td>sd</td>\n",
       "    </tr>\n",
       "    <tr>\n",
       "      <th>4</th>\n",
       "      <td>0.093581</td>\n",
       "      <td>0.431376</td>\n",
       "      <td>5.741084</td>\n",
       "      <td>4.398988</td>\n",
       "      <td>0.12</td>\n",
       "      <td>8.333333</td>\n",
       "      <td>0.008277</td>\n",
       "      <td>0.097482</td>\n",
       "      <td>b</td>\n",
       "    </tr>\n",
       "  </tbody>\n",
       "</table>\n",
       "</div>"
      ],
      "text/plain": [
       "   mean_pitch  mean_intensity   sd_pitch  sd_intensity  duration  \\\n",
       "0    0.439332       -0.233840  23.434147     12.741367      3.92   \n",
       "1   -0.333770       -0.065550  15.809203     13.735634      9.64   \n",
       "2   -0.195737        0.023572   3.449232     11.928231      2.20   \n",
       "3   -0.238647       -0.056787  18.148676     12.747733      5.92   \n",
       "4    0.093581        0.431376   5.741084      4.398988      0.12   \n",
       "\n",
       "   speaking_rate    jitter   shimmer tag  \n",
       "0       2.806122  0.016667  0.073849  qy  \n",
       "1       3.215768  0.017093  0.081315  sd  \n",
       "2       0.454545  0.009435  0.081687   %  \n",
       "3       3.378378  0.007669  0.071836  sd  \n",
       "4       8.333333  0.008277  0.097482   b  "
      ]
     },
     "execution_count": 42,
     "metadata": {},
     "output_type": "execute_result"
    }
   ],
   "source": [
    "pd1 = pd.read_csv(\"train_1000/train_1000_features.csv\")\n",
    "pd2 = pd.read_csv(\"train_1000/train_1000_features2.csv\") \n",
    "pd3 = pd.read_csv(\"train_1000/train_1000_features3.csv\")\n",
    "pd4 = pd.read_csv(\"train_1000/train_1000_features4.csv\")\n",
    "pd5 = pd.read_csv(\"train_1000/train_1000_features5.csv\")\n",
    "pd_all = pd.concat([pd1, pd2, pd3, pd4, pd5]) \\\n",
    "        .reset_index() \\\n",
    "        .drop(columns=['Unnamed: 0', 'index']) \\\n",
    "        .dropna()\n",
    "pd_all.head()"
   ]
  },
  {
   "cell_type": "markdown",
   "metadata": {},
   "source": [
    "## PCA"
   ]
  },
  {
   "cell_type": "code",
   "execution_count": 177,
   "metadata": {},
   "outputs": [],
   "source": [
    "# https://scikit-learn.org/stable/modules/generated/sklearn.decomposition.PCA.html#sklearn.decomposition.PCA.fit_transform\n",
    "# https://stackoverflow.com/questions/22984335/recovering-features-names-of-explained-variance-ratio-in-pca-with-sklearn\n",
    "# https://towardsdatascience.com/a-one-stop-shop-for-principal-component-analysis-5582fb7e0a9c\n",
    "from sklearn.preprocessing import StandardScaler\n",
    "from sklearn.decomposition import PCA\n",
    "import matplotlib.pyplot as plt\n",
    "from itertools import combinations "
   ]
  },
  {
   "cell_type": "code",
   "execution_count": 123,
   "metadata": {},
   "outputs": [],
   "source": [
    "features = ['mean_pitch', 'mean_intensity', 'sd_pitch', 'sd_intensity', \n",
    "            'duration', 'speaking_rate', 'jitter', 'shimmer']\n",
    "x = pd_all.loc[:, features].values\n",
    "y = pd_all.loc[:,['tag']].values\n",
    "x = StandardScaler().fit_transform(x)"
   ]
  },
  {
   "cell_type": "code",
   "execution_count": 187,
   "metadata": {},
   "outputs": [
    {
     "data": {
      "text/html": [
       "<div>\n",
       "<style scoped>\n",
       "    .dataframe tbody tr th:only-of-type {\n",
       "        vertical-align: middle;\n",
       "    }\n",
       "\n",
       "    .dataframe tbody tr th {\n",
       "        vertical-align: top;\n",
       "    }\n",
       "\n",
       "    .dataframe thead th {\n",
       "        text-align: right;\n",
       "    }\n",
       "</style>\n",
       "<table border=\"1\" class=\"dataframe\">\n",
       "  <thead>\n",
       "    <tr style=\"text-align: right;\">\n",
       "      <th></th>\n",
       "      <th>pc1</th>\n",
       "      <th>pc2</th>\n",
       "      <th>tag</th>\n",
       "    </tr>\n",
       "  </thead>\n",
       "  <tbody>\n",
       "    <tr>\n",
       "      <th>0</th>\n",
       "      <td>0.211246</td>\n",
       "      <td>-1.452196</td>\n",
       "      <td>qy</td>\n",
       "    </tr>\n",
       "    <tr>\n",
       "      <th>1</th>\n",
       "      <td>1.558248</td>\n",
       "      <td>-1.359709</td>\n",
       "      <td>sd</td>\n",
       "    </tr>\n",
       "    <tr>\n",
       "      <th>2</th>\n",
       "      <td>-0.239579</td>\n",
       "      <td>-1.375216</td>\n",
       "      <td>%</td>\n",
       "    </tr>\n",
       "    <tr>\n",
       "      <th>3</th>\n",
       "      <td>0.274774</td>\n",
       "      <td>-1.591206</td>\n",
       "      <td>sd</td>\n",
       "    </tr>\n",
       "    <tr>\n",
       "      <th>4</th>\n",
       "      <td>-3.125002</td>\n",
       "      <td>1.776289</td>\n",
       "      <td>b</td>\n",
       "    </tr>\n",
       "  </tbody>\n",
       "</table>\n",
       "</div>"
      ],
      "text/plain": [
       "        pc1       pc2 tag\n",
       "0  0.211246 -1.452196  qy\n",
       "1  1.558248 -1.359709  sd\n",
       "2 -0.239579 -1.375216   %\n",
       "3  0.274774 -1.591206  sd\n",
       "4 -3.125002  1.776289   b"
      ]
     },
     "execution_count": 187,
     "metadata": {},
     "output_type": "execute_result"
    }
   ],
   "source": [
    "pca = PCA(n_components=2)\n",
    "principalComponents = pca.fit_transform(x)\n",
    "principalDf = pd.DataFrame(data = principalComponents\n",
    "             , columns = ['pc1', 'pc2'])\n",
    "finalDf = pd.concat([principalDf, pd_all[['tag']]], axis = 1)\n",
    "finalDf.head()"
   ]
  },
  {
   "cell_type": "code",
   "execution_count": 138,
   "metadata": {},
   "outputs": [
    {
     "data": {
      "text/html": [
       "<div>\n",
       "<style scoped>\n",
       "    .dataframe tbody tr th:only-of-type {\n",
       "        vertical-align: middle;\n",
       "    }\n",
       "\n",
       "    .dataframe tbody tr th {\n",
       "        vertical-align: top;\n",
       "    }\n",
       "\n",
       "    .dataframe thead th {\n",
       "        text-align: right;\n",
       "    }\n",
       "</style>\n",
       "<table border=\"1\" class=\"dataframe\">\n",
       "  <thead>\n",
       "    <tr style=\"text-align: right;\">\n",
       "      <th></th>\n",
       "      <th>mean_pitch</th>\n",
       "      <th>mean_intensity</th>\n",
       "      <th>sd_pitch</th>\n",
       "      <th>sd_intensity</th>\n",
       "      <th>duration</th>\n",
       "      <th>speaking_rate</th>\n",
       "      <th>jitter</th>\n",
       "      <th>shimmer</th>\n",
       "    </tr>\n",
       "  </thead>\n",
       "  <tbody>\n",
       "    <tr>\n",
       "      <th>pc1</th>\n",
       "      <td>-0.344425</td>\n",
       "      <td>-0.336857</td>\n",
       "      <td>0.441407</td>\n",
       "      <td>0.411283</td>\n",
       "      <td>0.380497</td>\n",
       "      <td>-0.231649</td>\n",
       "      <td>0.356381</td>\n",
       "      <td>0.280104</td>\n",
       "    </tr>\n",
       "    <tr>\n",
       "      <th>pc2</th>\n",
       "      <td>-0.147081</td>\n",
       "      <td>0.373304</td>\n",
       "      <td>0.262344</td>\n",
       "      <td>-0.322740</td>\n",
       "      <td>-0.275673</td>\n",
       "      <td>0.408124</td>\n",
       "      <td>0.443718</td>\n",
       "      <td>0.476004</td>\n",
       "    </tr>\n",
       "  </tbody>\n",
       "</table>\n",
       "</div>"
      ],
      "text/plain": [
       "     mean_pitch  mean_intensity  sd_pitch  sd_intensity  duration  \\\n",
       "pc1   -0.344425       -0.336857  0.441407      0.411283  0.380497   \n",
       "pc2   -0.147081        0.373304  0.262344     -0.322740 -0.275673   \n",
       "\n",
       "     speaking_rate    jitter   shimmer  \n",
       "pc1      -0.231649  0.356381  0.280104  \n",
       "pc2       0.408124  0.443718  0.476004  "
      ]
     },
     "execution_count": 138,
     "metadata": {},
     "output_type": "execute_result"
    }
   ],
   "source": [
    "pd.DataFrame(pca.components_, columns=features,index = ['pc1','pc2'])"
   ]
  },
  {
   "cell_type": "code",
   "execution_count": 134,
   "metadata": {},
   "outputs": [
    {
     "data": {
      "image/png": "[encoded data removed]",
      "text/plain": [
       "<Figure size 576x576 with 1 Axes>"
      ]
     },
     "metadata": {
      "needs_background": "light"
     },
     "output_type": "display_data"
    }
   ],
   "source": [
    "fig = plt.figure(figsize = (8,8))\n",
    "ax = fig.add_subplot(1,1,1) \n",
    "ax.set_xlabel('Pc1', fontsize = 15)\n",
    "ax.set_ylabel('Pc2', fontsize = 15)\n",
    "ax.set_title('2 component PCA', fontsize = 20)\n",
    "targets = list(set(pd_all['tag']))\n",
    "for target in targets:\n",
    "    indicesToKeep = finalDf['tag'] == target\n",
    "    ax.scatter(finalDf.loc[indicesToKeep, 'pc1']\n",
    "               , finalDf.loc[indicesToKeep, 'pc2']\n",
    "               , s = 50)\n",
    "    ax.legend(targets)\n",
    "    ax.grid()"
   ]
  },
  {
   "cell_type": "code",
   "execution_count": 65,
   "metadata": {},
   "outputs": [
    {
     "data": {
      "text/plain": [
       "array([0.30168388, 0.23408089])"
      ]
     },
     "execution_count": 65,
     "metadata": {},
     "output_type": "execute_result"
    }
   ],
   "source": [
    "pca.explained_variance_ratio_"
   ]
  },
  {
   "cell_type": "code",
   "execution_count": 188,
   "metadata": {
    "scrolled": true
   },
   "outputs": [
    {
     "data": {
      "text/plain": [
       "(0.3763634982992282,\n",
       " ('mean_pitch', 'sd_pitch', 'sd_intensity', 'duration', 'jitter', 'shimmer'),\n",
       " array([[-0.40461866,  0.51931039,  0.2785039 ,  0.27845798,  0.48732814,\n",
       "          0.41714321]]))"
      ]
     },
     "execution_count": 188,
     "metadata": {},
     "output_type": "execute_result"
    }
   ],
   "source": [
    "components, features_list = [], []\n",
    "for new_features in list(combinations(features, 6)):\n",
    "    drop_features = [f for f in features if f not in new_features]\n",
    "    pd2 = pd_all.drop(columns=drop_features)\n",
    "    x = pd2.loc[:, new_features].values\n",
    "    y = pd2.loc[:,['tag']].values\n",
    "    x = StandardScaler().fit_transform(x)\n",
    "    pca = PCA(n_components=1)\n",
    "    principalComponents = pca.fit_transform(x)\n",
    "    features_list.append((pca.explained_variance_ratio_[0], new_features, pca.components_))\n",
    "#     if len(pca.explained_variance_ratio_)==4:\n",
    "#         print(new_features, sum(pca.explained_variance_ratio_), len(pca.explained_variance_ratio_))\n",
    "# pd.DataFrame(pca.components_, columns=features)\n",
    "features_list.sort(reverse=True)\n",
    "features_list[0]"
   ]
  },
  {
   "cell_type": "markdown",
   "metadata": {},
   "source": [
    "## Best feature selection"
   ]
  },
  {
   "cell_type": "markdown",
   "metadata": {},
   "source": [
    "### K-Best"
   ]
  },
  {
   "cell_type": "code",
   "execution_count": 176,
   "metadata": {},
   "outputs": [],
   "source": [
    "# https://towardsdatascience.com/feature-selection-techniques-in-machine-learning-with-python-f24e7da3f36e\n",
    "# https://stackoverflow.com/questions/25792012/feature-selection-using-scikit-learn\n",
    "# https://machinelearningmastery.com/feature-selection-machine-learning-python/\n",
    "from sklearn.feature_selection import SelectKBest\n",
    "from sklearn.feature_selection import f_classif"
   ]
  },
  {
   "cell_type": "code",
   "execution_count": 155,
   "metadata": {},
   "outputs": [],
   "source": [
    "features = ['mean_pitch', 'mean_intensity', 'sd_pitch', 'sd_intensity', \n",
    "            'duration', 'speaking_rate', 'jitter', 'shimmer']\n",
    "xDF = pd_all.loc[:, features]\n",
    "y = pd_all.loc[:,['tag']]\n",
    "xSC = StandardScaler().fit_transform(xDF)\n",
    "x = pd.DataFrame(xSC, index=xDF.index, columns=xDF.columns)"
   ]
  },
  {
   "cell_type": "code",
   "execution_count": 175,
   "metadata": {},
   "outputs": [
    {
     "data": {
      "text/html": [
       "<div>\n",
       "<style scoped>\n",
       "    .dataframe tbody tr th:only-of-type {\n",
       "        vertical-align: middle;\n",
       "    }\n",
       "\n",
       "    .dataframe tbody tr th {\n",
       "        vertical-align: top;\n",
       "    }\n",
       "\n",
       "    .dataframe thead th {\n",
       "        text-align: right;\n",
       "    }\n",
       "</style>\n",
       "<table border=\"1\" class=\"dataframe\">\n",
       "  <thead>\n",
       "    <tr style=\"text-align: right;\">\n",
       "      <th></th>\n",
       "      <th>Specs</th>\n",
       "      <th>Score</th>\n",
       "    </tr>\n",
       "  </thead>\n",
       "  <tbody>\n",
       "    <tr>\n",
       "      <th>4</th>\n",
       "      <td>duration</td>\n",
       "      <td>13.303480</td>\n",
       "    </tr>\n",
       "    <tr>\n",
       "      <th>3</th>\n",
       "      <td>sd_intensity</td>\n",
       "      <td>8.630644</td>\n",
       "    </tr>\n",
       "    <tr>\n",
       "      <th>2</th>\n",
       "      <td>sd_pitch</td>\n",
       "      <td>3.427214</td>\n",
       "    </tr>\n",
       "    <tr>\n",
       "      <th>7</th>\n",
       "      <td>shimmer</td>\n",
       "      <td>2.992644</td>\n",
       "    </tr>\n",
       "    <tr>\n",
       "      <th>5</th>\n",
       "      <td>speaking_rate</td>\n",
       "      <td>2.750573</td>\n",
       "    </tr>\n",
       "    <tr>\n",
       "      <th>0</th>\n",
       "      <td>mean_pitch</td>\n",
       "      <td>2.195402</td>\n",
       "    </tr>\n",
       "  </tbody>\n",
       "</table>\n",
       "</div>"
      ],
      "text/plain": [
       "           Specs      Score\n",
       "4       duration  13.303480\n",
       "3   sd_intensity   8.630644\n",
       "2       sd_pitch   3.427214\n",
       "7        shimmer   2.992644\n",
       "5  speaking_rate   2.750573\n",
       "0     mean_pitch   2.195402"
      ]
     },
     "execution_count": 175,
     "metadata": {},
     "output_type": "execute_result"
    }
   ],
   "source": [
    "bestfeatures = SelectKBest(score_func=f_classif, k=6)\n",
    "fit = bestfeatures.fit(x,y.to_numpy().T[0])\n",
    "dfscores = pd.DataFrame(fit.scores_)\n",
    "dfcolumns = pd.DataFrame(x.columns)\n",
    "featureScores = pd.concat([dfcolumns,dfscores],axis=1)\n",
    "featureScores.columns = ['Specs','Score']\n",
    "featureScores.nlargest(6,'Score')"
   ]
  },
  {
   "cell_type": "markdown",
   "metadata": {},
   "source": [
    "### Feature Importance"
   ]
  },
  {
   "cell_type": "code",
   "execution_count": 174,
   "metadata": {
    "scrolled": true
   },
   "outputs": [
    {
     "name": "stdout",
     "output_type": "stream",
     "text": [
      "[0.1056754  0.11342163 0.12190691 0.12440309 0.16031873 0.15473193\n",
      " 0.11273764 0.10680468]\n"
     ]
    },
    {
     "data": {
      "image/png": "[encoded data removed]",
      "text/plain": [
       "<Figure size 432x288 with 1 Axes>"
      ]
     },
     "metadata": {
      "needs_background": "light"
     },
     "output_type": "display_data"
    }
   ],
   "source": [
    "from sklearn.ensemble import ExtraTreesClassifier\n",
    "model = ExtraTreesClassifier()\n",
    "model.fit(x,y.to_numpy().T[0])\n",
    "print(model.feature_importances_) #use inbuilt class feature_importances of tree based classifiers\n",
    "#plot graph of feature importances for better visualization\n",
    "feat_importances = pd.Series(model.feature_importances_, index=x.columns)\n",
    "feat_importances.nlargest(6).plot(kind='barh')\n",
    "plt.show()"
   ]
  },
  {
   "cell_type": "markdown",
   "metadata": {},
   "source": [
    "### Recursive Feature Elimination"
   ]
  },
  {
   "cell_type": "code",
   "execution_count": 158,
   "metadata": {},
   "outputs": [],
   "source": [
    "from sklearn.feature_selection import RFE\n",
    "from sklearn.linear_model import LogisticRegression"
   ]
  },
  {
   "cell_type": "code",
   "execution_count": 173,
   "metadata": {},
   "outputs": [
    {
     "name": "stdout",
     "output_type": "stream",
     "text": [
      "Num Features: 6\n",
      "Selected Features: [False  True  True  True  True  True False  True]\n",
      "Feature Ranking: [3 1 1 1 1 1 2 1]\n"
     ]
    },
    {
     "data": {
      "text/plain": [
       "['mean_intensity',\n",
       " 'sd_pitch',\n",
       " 'sd_intensity',\n",
       " 'duration',\n",
       " 'speaking_rate',\n",
       " 'shimmer']"
      ]
     },
     "execution_count": 173,
     "metadata": {},
     "output_type": "execute_result"
    }
   ],
   "source": [
    "model = LogisticRegression(solver='lbfgs')\n",
    "rfe = RFE(model, 6)\n",
    "fit = rfe.fit(x, y.to_numpy().T[0])\n",
    "print(\"Num Features: %d\" % fit.n_features_)\n",
    "print(\"Selected Features: %s\" % fit.support_)\n",
    "print(\"Feature Ranking: %s\" % fit.ranking_)\n",
    "[f for i,f in enumerate(features) if fit.support_[i]]"
   ]
  },
  {
   "cell_type": "code",
   "execution_count": null,
   "metadata": {},
   "outputs": [],
   "source": []
  }
 ],
 "metadata": {
  "kernelspec": {
   "display_name": "ML_venv",
   "language": "python",
   "name": "ml_venv"
  },
  "language_info": {
   "codemirror_mode": {
    "name": "ipython",
    "version": 3
   },
   "file_extension": ".py",
   "mimetype": "text/x-python",
   "name": "python",
   "nbconvert_exporter": "python",
   "pygments_lexer": "ipython3",
   "version": "3.7.2"
  }
 },
 "nbformat": 4,
 "nbformat_minor": 2
}
